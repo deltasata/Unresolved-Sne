{
 "cells": [
  {
   "cell_type": "markdown",
   "metadata": {},
   "source": [
    "This notebook takes 2 signals/images. The intrinsic signal is given in the \"intrinsic_func\"."
   ]
  },
  {
   "cell_type": "code",
   "execution_count": 309,
   "metadata": {},
   "outputs": [],
   "source": [
    "%reset -f\n",
    "import lmfit\n",
    "import matplotlib.pyplot as plt\n",
    "import pystan\n",
    "import emcee\n",
    "from scipy.optimize import curve_fit\n",
    "from lmfit import Model\n",
    "import matplotlib\n",
    "import numpy as np"
   ]
  },
  {
   "cell_type": "code",
   "execution_count": 310,
   "metadata": {},
   "outputs": [],
   "source": [
    "def kernel(a, b,l):\n",
    "    sqd=np.subtract.outer(a,b)**2\n",
    "    return np.exp(-0.5*sqd/(l*l))\n",
    "\n",
    "def get_GP_mean(tp,P,t,l):\n",
    "    K=kernel(tp,tp,l);       #NPxNP\n",
    "    Ks=kernel(tp,t,l);       #NPxN\n",
    "    L=np.linalg.cholesky(K)# + 1e-15*np.eye(NP)); #NPxNP\n",
    "    Lk=np.linalg.solve(L,Ks);      #NPxN\n",
    "    z=np.linalg.solve(L,P);        #NP\n",
    "    m=np.dot(Lk.T,z)   # ((Lk)')*z;// N\n",
    "    return m;"
   ]
  },
  {
   "cell_type": "code",
   "execution_count": 311,
   "metadata": {},
   "outputs": [
    {
     "name": "stdout",
     "output_type": "stream",
     "text": [
      "0.16447577600704477 99.8543402727172\n"
     ]
    }
   ],
   "source": [
    "%matplotlib inline\n",
    "np.random.seed(15)\n",
    "tk=10.0\n",
    "def intrinsic_func(t,mu,dt):\n",
    "    t1=t+dt;\n",
    "    t1[t1<0]=0\n",
    "    return mu*(t1)**2*np.exp(-(t1)/tk)\n",
    "\n",
    "t_max=100.0; t_min=0.0; t_range=t_max-t_min; Ndata=200;\n",
    "t=t_min+np.random.rand(Ndata)*t_range;t=np.sort(t);\n",
    "#a slight shift is given because fitting may have problem with a very small \\sigma \n",
    "print(np.amin(t), np.amax(t))"
   ]
  },
  {
   "cell_type": "code",
   "execution_count": 312,
   "metadata": {
    "scrolled": false
   },
   "outputs": [
    {
     "data": {
      "image/png": "[encoded data removed]",
      "text/plain": [
       "<Figure size 432x288 with 1 Axes>"
      ]
     },
     "metadata": {
      "needs_background": "light"
     },
     "output_type": "display_data"
    },
    {
     "name": "stdout",
     "output_type": "stream",
     "text": [
      "chi^2: if actual model: chi^2= 201.93980717339545\n"
     ]
    }
   ],
   "source": [
    "#mu and dt for the images\n",
    "mu_l=[1.0,1.5]\n",
    "dt_l=[0.0,11.0]\n",
    "#for simplicity just consider the 1st NI images for now\n",
    "NI=2; #just take two signal/image \n",
    "ft=np.zeros((NI,Ndata))\n",
    "\n",
    "for i in np.arange(NI): \n",
    "    ft[i]=intrinsic_func(t,mu_l[i],dt_l[i])\n",
    "    \n",
    "ft_total=np.sum(ft,axis=0)\n",
    "#sigft=0.05*ft_total+1.0  #10*(0.2+np.random.rand(len(t)))\n",
    "sigft=5*(0.2+np.random.rand(len(t)))\n",
    "np.random.seed(37)\n",
    "\n",
    "y=np.random.normal(ft_total, sigft)#this is my data\n",
    "\n",
    "plt.errorbar(t,y,yerr=sigft,fmt='r*',label=r\"data\") #data\n",
    "plt.plot(t,ft_total,c='k',lw=1.0,ls=\"--\", label=r\"total function\")\n",
    "clr=[\"b\",\"g\",\"c\",\"orange\"]\n",
    "for i in range(NI):\n",
    "    plt.plot(t,ft[i],c=clr[i],lw=1.0,ls=\"--\", label=r\"ft[%d]\"%(i))\n",
    "\n",
    "plt.legend(loc=0)\n",
    "plt.show()\n",
    "chi2_am=np.sum(((y-ft_total)/sigft)**2)\n",
    "print(\"chi^2: if actual model: chi^2=\",chi2_am)"
   ]
  },
  {
   "cell_type": "markdown",
   "metadata": {},
   "source": [
    "Using GP mean function instead of interpolation"
   ]
  },
  {
   "cell_type": "markdown",
   "metadata": {},
   "source": [
    "We choose NP number of free parameters P. They represent the first image. The 2nd image is scaled by mu and has time delay dt (positive dt means the image shifted towards left, hence arrives earlier). To construct the first signal from the values of the parameters P we use GP mean function."
   ]
  },
  {
   "cell_type": "code",
   "execution_count": 313,
   "metadata": {},
   "outputs": [
    {
     "name": "stderr",
     "output_type": "stream",
     "text": [
      "INFO:pystan:COMPILING THE C++ CODE FOR MODEL anon_model_08b3e68d2d19a7c101786d460582b0d8 NOW.\n"
     ]
    },
    {
     "name": "stdout",
     "output_type": "stream",
     "text": [
      "tp= [  0.16447578  15.12570884  30.0869419   45.04817496  60.00940802\n",
      "  74.97064109  89.93187415 104.89310721 119.85434027]\n",
      "td= 15.0\n"
     ]
    },
    {
     "name": "stderr",
     "output_type": "stream",
     "text": [
      "WARNING:pystan:54 of 3204 iterations ended with a divergence (1.69 %).\n",
      "WARNING:pystan:Try running with adapt_delta larger than 0.8 to remove the divergences.\n",
      "WARNING:pystan:25 of 3204 iterations saturated the maximum tree depth of 10 (0.78 %)\n",
      "WARNING:pystan:Run again with max_treedepth larger than 10 to avoid saturation\n"
     ]
    },
    {
     "name": "stdout",
     "output_type": "stream",
     "text": [
      "Inference for Stan model: anon_model_08b3e68d2d19a7c101786d460582b0d8.\n",
      "6 chains, each with iter=2000; warmup=400; thin=3; \n",
      "post-warmup draws per chain=534, total post-warmup draws=3204.\n",
      "\n",
      "       mean se_mean     sd   2.5%    25%    50%    75%  97.5%  n_eff   Rhat\n",
      "P[1]  12.04    0.23   8.58    0.4   4.85  11.06  17.39  31.65   1444    1.0\n",
      "P[2]  75.78    0.86  13.85  48.59  65.18  77.54  86.23  99.82    259   1.03\n",
      "P[3]  59.39    0.59   8.73  41.33  52.49  61.34  66.04  72.85    218   1.03\n",
      "P[4]  29.61    0.31   4.52  20.72  25.91  30.47  33.32  36.33    208   1.03\n",
      "P[5]  11.33    0.09   1.39   8.32  10.36  11.65  12.37  13.48    243   1.03\n",
      "P[6]   3.26    0.05   0.81   1.88   2.62   3.23   3.83   4.89    282   1.02\n",
      "P[7]   1.06    0.01   0.53   0.09   0.68   1.04   1.41   2.12   1275    1.0\n",
      "P[8]   1.12    0.02   0.89   0.06   0.48    0.9   1.53   3.23   2053    1.0\n",
      "P[9]   6.36    0.21   6.61   0.14   1.89   4.46   8.44   24.7    998   1.01\n",
      "l     15.92    0.37   4.77   7.48   9.74  18.67  19.52  19.96    165   1.03\n",
      "mu      0.8    0.02   0.33   0.33   0.57   0.72   0.98   1.56    318   1.02\n",
      "dt    11.79    0.19   2.96   6.29   9.24  12.07  14.14  16.85    245   1.02\n",
      "lp__ -504.3    0.15   3.29 -511.2 -506.3 -504.2 -502.2 -498.1    484   1.01\n",
      "\n",
      "Samples were drawn using NUTS at Tue Jan 21 20:21:31 2020.\n",
      "For each parameter, n_eff is a crude measure of effective sample size,\n",
      "and Rhat is the potential scale reduction factor on split chains (at \n",
      "convergence, Rhat=1).\n"
     ]
    }
   ],
   "source": [
    "\n",
    "model = \"\"\"\n",
    "functions{\n",
    "    matrix kernel1(vector x0, vector x1, real l, int d){\n",
    "        matrix [d,d] a;\n",
    "        for (i in 1:d)\n",
    "        {\n",
    "            for (j in 1:i)\n",
    "            {\n",
    "                a[i][j]=exp(-0.5*(x0[i]-x1[j])*(x0[i]-x1[j])/(l*l));\n",
    "                a[j][i]=a[i][j];\n",
    "            }\n",
    "            \n",
    "        }\n",
    "        return a;\n",
    "    }\n",
    "    \n",
    "    matrix kernel2(vector x0, vector x1, real l, int d1, int d2){\n",
    "        matrix [d1,d2] a;\n",
    "        for (i in 1:d1)\n",
    "        {\n",
    "            for (j in 1:d2)\n",
    "            {\n",
    "                a[i][j]=exp(-0.5*(x0[i]-x1[j])*(x0[i]-x1[j])/(l*l));\n",
    "            }\n",
    "            \n",
    "        }\n",
    "        return a;\n",
    "    }\n",
    "    //================== calculating GP mean function =============================\n",
    "    vector GP_mean(vector tp, vector t, vector P, real l, int NP, int N)\n",
    "    {\n",
    "        matrix[NP,NP] K;\n",
    "        matrix[NP,NP] L;\n",
    "        matrix[NP,N] Ks;\n",
    "        matrix[NP,N] Lk;\n",
    "        vector[NP] z;\n",
    "        vector[N] m;\n",
    "    \n",
    "        K=kernel1(tp,tp,l, NP);       //NPxNP\n",
    "        Ks=kernel2(tp,t,l, NP,N);       //NPxN\n",
    "        L=cholesky_decompose(K); //NPxNP\n",
    "        Lk=L\\Ks;      //NPxN\n",
    "        z=L\\P;        //NP\n",
    "        m=((Lk)')*z;// N\n",
    "        return m;\n",
    "    }\n",
    "    //==============================================================================\n",
    "}\n",
    "\n",
    "data {\n",
    "    int<lower=0> N;\n",
    "    int<lower=0> ni;\n",
    "    int<lower=5> NP;\n",
    "    vector[N] t;\n",
    "    vector[N] y;\n",
    "    vector[N] yerror;\n",
    "    vector[NP] tp;\n",
    "    real td;\n",
    "    real dt_max;\n",
    "}\n",
    "parameters {\n",
    "    vector <lower=0.0, upper=150.0> [NP] P;\n",
    "    real<lower=5.0, upper=20.0> l;\n",
    "    real<lower=0.25, upper=4.0> mu;//actually measuring amplitudes relative \n",
    "    //simplex[ni] dt_r;\n",
    "    real <lower=0, upper=dt_max> dt;\n",
    "    \n",
    "    \n",
    "    \n",
    "    \n",
    "}\n",
    "/*\n",
    "//transformed parameters {\n",
    "//    positive_ordered[ni-1] dt = dt_max*cumulative_sum(dt_r[:ni-1]);\n",
    "//}*/\n",
    "\n",
    "model {\n",
    "    vector[N] dum;\n",
    "\n",
    "    //dum needs GP\n",
    "    dum=GP_mean(tp, t, P, l, NP, N); //first image\n",
    "    dum=dum+mu*GP_mean(tp, t+dt, P, l, NP, N); //adding the 2nd image\n",
    "    \n",
    "    \n",
    "    target+=normal_lpdf(y|dum,yerror);\n",
    "\n",
    "}\n",
    "\"\"\"\n",
    "NI=2\n",
    "NP=9;\n",
    "dt_min=0.0; dt_max=20.0\n",
    "#t_range=np.amax(t)-np.amin(t)\n",
    "tp=np.linspace(np.amin(t), np.amax(t)+dt_max, NP)\n",
    "print(\"tp=\",tp)\n",
    "td=(t_max-t_min+dt_max-dt_min)/(NP-1); print(\"td=\",td);\n",
    "data = {'N': len(t),'ni':NI,'NP':NP, 't': t, 'y': y, 'yerror':sigft,'tp':tp,'td':td, 'dt_max':dt_max}\n",
    "\n",
    "sm = pystan.StanModel(model_code=model)\n",
    "\n",
    "fit4 = sm.sampling(data=data, iter=3000, chains=8, warmup=400, thin=3, seed=4201)#,control=dict(max_treedepth=15,adapt_delta=1.2))\n",
    "print(fit4)\n"
   ]
  },
  {
   "cell_type": "markdown",
   "metadata": {},
   "source": [
    "In this notebook"
   ]
  },
  {
   "cell_type": "code",
   "execution_count": 320,
   "metadata": {
    "scrolled": true
   },
   "outputs": [
    {
     "name": "stdout",
     "output_type": "stream",
     "text": [
      "13 [12.04193728 75.77982317 59.39481163 29.61311665 11.33486896  3.25933297\n",
      "  1.05556355  1.11569703  6.36164344]\n",
      "P's are calculated at t=  [  0.16447578  15.12570884  30.0869419   45.04817496  60.00940802\n",
      "  74.97064109  89.93187415 104.89310721 119.85434027]\n"
     ]
    },
    {
     "data": {
      "image/png": "[encoded data removed]",
      "text/plain": [
       "<Figure size 432x288 with 1 Axes>"
      ]
     },
     "metadata": {
      "needs_background": "light"
     },
     "output_type": "display_data"
    },
    {
     "name": "stdout",
     "output_type": "stream",
     "text": [
      "Chi^2 actual= 201.93980717339548 Chi^2 pystan rec= 417.43084252786036\n"
     ]
    }
   ],
   "source": [
    "NP=9\n",
    "tp=np.linspace(np.amin(t), np.amax(t)+dt_max, NP)\n",
    "pp1=fit4.get_posterior_mean()\n",
    "pos_mean=np.mean(pp1,axis=1)\n",
    "P_mean=pos_mean[np.arange(0,NP)]; \n",
    "print(len(pos_mean),P_mean)\n",
    "lm=pos_mean[-4]; mum=pos_mean[-3]; dtm=pos_mean[-2];\n",
    "print(\"P's are calculated at t= \",tp)\n",
    "\n",
    "\n",
    "Ps1=get_GP_mean(tp,P_mean,t,lm)\n",
    "Ps2=mum*get_GP_mean(tp,P_mean,t+dtm,lm)\n",
    "\n",
    "rconst_signal=Ps1+Ps2#+Ps3+Ps4;\n",
    "Ps=Ps1+Ps2\n",
    "\n",
    "plt.errorbar(t,y,yerr=sigft,fmt='r*',label=r\"data\") #data\n",
    "plt.plot(t,ft_total,c='k',lw=1.0,ls=\"--\", label=r\"total function\")\n",
    "clr=[\"b\",\"g\",\"c\",\"orange\"]\n",
    "for i in range(NI):\n",
    "    plt.plot(t,ft[i],c=clr[i],lw=1.0,ls=\"--\", label=r\"input ft[%d]\"%(i))\n",
    "\n",
    "plt.plot(t,Ps1,c=\"r\",label=\"recons signal 1\" )  \n",
    "plt.plot(t,Ps2,c=\"purple\",label=\"recons signal 2\") \n",
    "plt.errorbar(t,Ps,fmt='g*',label=r\"rec data\") #data    \n",
    "plt.scatter(tp,P_mean,c='b',label=\"parameters values\")\n",
    "plt.legend(loc=0)\n",
    "plt.show()\n",
    "chisq=np.sum((Ps-y)**2/sigft**2)\n",
    "chisq_o=np.sum((ft_total-y)**2/sigft**2)\n",
    "print(\"Chi^2 actual=\",chisq_o,\"Chi^2 pystan rec=\",chisq)"
   ]
  },
  {
   "cell_type": "markdown",
   "metadata": {},
   "source": [
    "Here we used NP=11 "
   ]
  },
  {
   "cell_type": "code",
   "execution_count": 315,
   "metadata": {},
   "outputs": [
    {
     "name": "stderr",
     "output_type": "stream",
     "text": [
      "INFO:pystan:COMPILING THE C++ CODE FOR MODEL anon_model_79a7d19b0a2e4df103bbcdc1b19dc261 NOW.\n"
     ]
    },
    {
     "name": "stdout",
     "output_type": "stream",
     "text": [
      "[  0.  12.  24.  36.  48.  60.  72.  84.  96. 108. 120.]\n"
     ]
    },
    {
     "name": "stderr",
     "output_type": "stream",
     "text": [
      "WARNING:pystan:Rhat above 1.1 or below 0.9 indicates that the chains very likely have not mixed\n",
      "WARNING:pystan:778 of 4272 iterations ended with a divergence (18.2 %).\n",
      "WARNING:pystan:Try running with adapt_delta larger than 0.8 to remove the divergences.\n",
      "WARNING:pystan:7 of 4272 iterations saturated the maximum tree depth of 10 (0.164 %)\n",
      "WARNING:pystan:Run again with max_treedepth larger than 10 to avoid saturation\n"
     ]
    },
    {
     "name": "stdout",
     "output_type": "stream",
     "text": [
      "Inference for Stan model: anon_model_79a7d19b0a2e4df103bbcdc1b19dc261.\n",
      "8 chains, each with iter=2000; warmup=400; thin=3; \n",
      "post-warmup draws per chain=534, total post-warmup draws=4272.\n",
      "\n",
      "        mean se_mean     sd   2.5%    25%    50%    75%  97.5%  n_eff   Rhat\n",
      "P[1]   28.27    0.62   8.44   8.94  23.67  28.25  33.66  44.02    188   1.05\n",
      "P[2]   86.34    3.18    9.2  68.61  81.06  87.66  93.81  99.37      8   1.43\n",
      "P[3]   82.09    3.04   7.86   65.6  78.58  83.81  87.75  93.52      7   1.62\n",
      "P[4]   52.11    1.88   4.79   42.1  50.18  53.35  55.41  59.02      6   1.64\n",
      "P[5]    26.9    1.02   2.63  21.37  25.76  27.44  28.75  30.83      7   1.61\n",
      "P[6]   12.92    0.47   1.36  10.26  12.11   13.2  13.93  15.06      8   1.42\n",
      "P[7]    3.94     0.2   0.75   2.74   3.34   3.93   4.48   5.36     14   1.24\n",
      "P[8]    2.21    0.18   0.75   1.01   1.64   2.25    2.7    3.7     17   1.17\n",
      "P[9]    0.64    0.02   0.47   0.03   0.27   0.56   0.89    1.8    367   1.03\n",
      "P[10]   5.75    0.21   5.64   0.16    1.9   4.13   7.81   21.8    720   1.02\n",
      "P[11]  34.07    2.05  32.76   1.08  11.71  22.13  46.34 125.99    256   1.03\n",
      "l      14.88    0.49   2.64  10.66   12.6  14.79  17.02  19.64     29   1.15\n",
      "mu      0.44    0.05   0.15   0.26   0.31    0.4   0.51   0.74      8   1.48\n",
      "dt      8.65     0.8   4.13   0.84   4.62   9.59  11.61  16.61     27   1.11\n",
      "lp__  -494.0    0.09   3.04 -501.3 -495.8 -493.6 -491.9 -489.2   1122   1.01\n",
      "\n",
      "Samples were drawn using NUTS at Tue Jan 21 20:30:20 2020.\n",
      "For each parameter, n_eff is a crude measure of effective sample size,\n",
      "and Rhat is the potential scale reduction factor on split chains (at \n",
      "convergence, Rhat=1).\n"
     ]
    }
   ],
   "source": [
    "\n",
    "model = \"\"\"\n",
    "functions{\n",
    "    matrix kernel(vector x0, vector x1, real l){\n",
    "        int d0=num_elements(x0);\n",
    "        int d1=num_elements(x1);\n",
    "        matrix [d0,d1] a;\n",
    "        for (i in 1:d0){\n",
    "            for (j in 1:d1){\n",
    "                a[i][j]=exp(-0.5*(x0[i]-x1[j])*(x0[i]-x1[j])/(l*l));\n",
    "                //a[j][i]=a[i][j];\n",
    "            }\n",
    "            \n",
    "        }\n",
    "        return a;\n",
    "    }\n",
    "    vector GP_mean(vector tp, vector t, vector P, real l, int NP, int N)\n",
    "    {\n",
    "        matrix[NP,NP] K;\n",
    "        matrix[NP,NP] L;\n",
    "        matrix[NP,N] Ks;\n",
    "        matrix[NP,N] Lk;\n",
    "        vector[NP] z;\n",
    "        vector[N] m;\n",
    "    \n",
    "        K=kernel(tp,tp,l);       //NPxNP\n",
    "        Ks=kernel(tp,t,l);       //NPxN\n",
    "        L=cholesky_decompose(K); //NPxNP\n",
    "        Lk=L\\Ks;      //NPxN\n",
    "        z=L\\P;        //NP\n",
    "        m=((Lk)')*z;// N\n",
    "        return m;\n",
    "    }\n",
    "}\n",
    "\n",
    "data {\n",
    "    int<lower=0> N;\n",
    "    int<lower=0> ni;\n",
    "    int<lower=5> NP;\n",
    "    vector[N] t;\n",
    "    vector[N] y;\n",
    "    vector[N] yerror;\n",
    "    vector[NP] tp;\n",
    "}\n",
    "parameters {\n",
    "    vector <lower=0.0, upper=200.0> [NP] P;\n",
    "    real<lower=10.0, upper=20.0> l;\n",
    "    real<lower=0.25, upper=4.0> mu;//actually measuring amplitudes relative \n",
    "    //simplex[ni] dt_r;\n",
    "    real <lower=0.0, upper=20.0> dt;\n",
    "    \n",
    "    \n",
    "    \n",
    "    \n",
    "}\n",
    "/*\n",
    "//transformed parameters {\n",
    "//    positive_ordered[ni-1] dt = dt_max*cumulative_sum(dt_r[:ni-1]);\n",
    "//}*/\n",
    "\n",
    "model {\n",
    "    vector[N] dum;\n",
    "\n",
    "    //dum needs GP\n",
    "    dum=GP_mean(tp, t, P, l, NP, N);\n",
    "    dum=dum+mu*GP_mean(tp, t+dt, P, l, NP, N);\n",
    "    \n",
    "    \n",
    "    target+=normal_lpdf(y|dum,yerror);\n",
    "\n",
    "}\n",
    "\"\"\"\n",
    "NI=2\n",
    "NP=11;\n",
    "dt_min=0.0; dt_max=20.0\n",
    "#t_range=np.amax(t)-np.amin(t)\n",
    "tp=np.linspace(t_min+dt_min, t_max+dt_max, NP)\n",
    "print(tp)\n",
    "data = {'N': len(t),'ni':NI,'NP':NP, 't': t, 'y': y, 'yerror':sigft,'tp':tp}\n",
    "\n",
    "sm = pystan.StanModel(model_code=model)\n",
    "\n",
    "fit5 = sm.sampling(data=data, iter=2000, chains=8, warmup=400, thin=3, seed=4201)\n",
    "print(fit5)"
   ]
  },
  {
   "cell_type": "code",
   "execution_count": 321,
   "metadata": {},
   "outputs": [
    {
     "name": "stdout",
     "output_type": "stream",
     "text": [
      "[ 2.82712519e+01  8.63372696e+01  8.20899073e+01  5.21066563e+01\n",
      "  2.68959518e+01  1.29241048e+01  3.94278352e+00  2.21221630e+00\n",
      "  6.43632227e-01  5.75306773e+00  3.40654546e+01  1.48819597e+01\n",
      "  4.35949293e-01  8.64673218e+00 -4.94070741e+02]\n",
      "15 11\n",
      "P's are calculated at t=  [  0.16447578  12.13346223  24.10244868  36.07143513  48.04042157\n",
      "  60.00940802  71.97839447  83.94738092  95.91636737 107.88535382\n",
      " 119.85434027]\n"
     ]
    },
    {
     "data": {
      "image/png": "[encoded data removed]",
      "text/plain": [
       "<Figure size 432x288 with 1 Axes>"
      ]
     },
     "metadata": {
      "needs_background": "light"
     },
     "output_type": "display_data"
    },
    {
     "name": "stdout",
     "output_type": "stream",
     "text": [
      "Chi^2 actual= 201.93980717339548 Chi^2 pystan rec= 212.8636746219106\n"
     ]
    }
   ],
   "source": [
    "NP=11\n",
    "tp=np.linspace(np.amin(t), np.amax(t)+dt_max, NP)\n",
    "pp1=fit5.get_posterior_mean()\n",
    "pos_mean=np.mean(pp1,axis=1)\n",
    "P_mean=pos_mean[np.arange(0,NP)]; \n",
    "print(pos_mean)\n",
    "print(len(pos_mean),len(P_mean))\n",
    "lm=pos_mean[-4]; mum=pos_mean[-3]; dtm=pos_mean[-2];\n",
    "print(\"P's are calculated at t= \",tp)\n",
    "\n",
    "\n",
    "Ps1=get_GP_mean(tp,P_mean,t,lm)\n",
    "Ps2=mum*get_GP_mean(tp,P_mean,t+dtm,lm)\n",
    "\n",
    "rconst_signal=Ps1+Ps2#+Ps3+Ps4;\n",
    "Ps=Ps1+Ps2\n",
    "\n",
    "plt.errorbar(t,y,yerr=sigft,fmt='r*',label=r\"data\") #data\n",
    "plt.plot(t,ft_total,c='k',lw=1.0,ls=\"--\", label=r\"total function\")\n",
    "clr=[\"b\",\"g\",\"c\",\"orange\"]\n",
    "for i in range(NI):\n",
    "    plt.plot(t,ft[i],c=clr[i],lw=1.0,ls=\"--\", label=r\"input ft[%d]\"%(i))\n",
    "\n",
    "plt.plot(t,Ps1,c=\"r\",label=\"recons signal 1\")  \n",
    "plt.plot(t,Ps2,c=\"purple\",label=\"recons signal 2\") \n",
    "plt.errorbar(t,Ps,fmt='g*',label=r\"rec data\") #data    \n",
    "plt.scatter(tp,P_mean,c='b',label=\"parameters values\")\n",
    "plt.legend(loc=0)\n",
    "plt.show()\n",
    "chisq=np.sum((Ps-y)**2/sigft**2)\n",
    "chisq_o=np.sum((ft_total-y)**2/sigft**2)\n",
    "print(\"Chi^2 actual=\",chisq_o,\"Chi^2 pystan rec=\",chisq)"
   ]
  },
  {
   "cell_type": "code",
   "execution_count": null,
   "metadata": {},
   "outputs": [],
   "source": []
  },
  {
   "cell_type": "code",
   "execution_count": null,
   "metadata": {},
   "outputs": [],
   "source": []
  },
  {
   "cell_type": "code",
   "execution_count": null,
   "metadata": {},
   "outputs": [],
   "source": []
  }
 ],
 "metadata": {
  "kernelspec": {
   "display_name": "Python 3",
   "language": "python",
   "name": "python3"
  },
  "language_info": {
   "codemirror_mode": {
    "name": "ipython",
    "version": 3
   },
   "file_extension": ".py",
   "mimetype": "text/x-python",
   "name": "python",
   "nbconvert_exporter": "python",
   "pygments_lexer": "ipython3",
   "version": "3.7.4"
  }
 },
 "nbformat": 4,
 "nbformat_minor": 2
}
