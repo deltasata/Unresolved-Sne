{
 "cells": [
  {
   "cell_type": "markdown",
   "metadata": {},
   "source": [
    "This notebook takes 2 signals/images. The intrinsic signal is given in the \"intrinsic_func\"."
   ]
  },
  {
   "cell_type": "code",
   "execution_count": 332,
   "metadata": {},
   "outputs": [],
   "source": [
    "%reset -f\n",
    "import lmfit\n",
    "import matplotlib.pyplot as plt\n",
    "import pystan\n",
    "import emcee\n",
    "from scipy.optimize import curve_fit\n",
    "from lmfit import Model\n",
    "import matplotlib\n",
    "import numpy as np"
   ]
  },
  {
   "cell_type": "code",
   "execution_count": 333,
   "metadata": {},
   "outputs": [],
   "source": [
    "def kernel(a, b,l):\n",
    "    sqd=np.subtract.outer(a,b)**2\n",
    "    return np.exp(-0.5*sqd/(l*l))\n",
    "\n",
    "def get_GP_mean(tp,P,t,l):\n",
    "    K=kernel(tp,tp,l);       #NPxNP\n",
    "    Ks=kernel(tp,t,l);       #NPxN\n",
    "    L=np.linalg.cholesky(K)# + 1e-15*np.eye(NP)); #NPxNP\n",
    "    Lk=np.linalg.solve(L,Ks);      #NPxN\n",
    "    z=np.linalg.solve(L,P);        #NP\n",
    "    m=np.dot(Lk.T,z)   # ((Lk)')*z;// N\n",
    "    return m;"
   ]
  },
  {
   "cell_type": "code",
   "execution_count": 334,
   "metadata": {},
   "outputs": [
    {
     "name": "stdout",
     "output_type": "stream",
     "text": [
      "0.16447577600704477 99.8543402727172\n"
     ]
    }
   ],
   "source": [
    "%matplotlib inline\n",
    "np.random.seed(15)\n",
    "tk=10.0\n",
    "def intrinsic_func(t,mu,dt):\n",
    "    t1=t+dt;\n",
    "    t1[t1<0]=0\n",
    "    return mu*(t1)**2*np.exp(-(t1)/tk)\n",
    "\n",
    "t_max=100.0; t_min=0.0; t_range=t_max-t_min; Ndata=200;\n",
    "t=t_min+np.random.rand(Ndata)*t_range;t=np.sort(t);\n",
    "#a slight shift is given because fitting may have problem with a very small \\sigma \n",
    "print(np.amin(t), np.amax(t))"
   ]
  },
  {
   "cell_type": "code",
   "execution_count": 335,
   "metadata": {
    "scrolled": false
   },
   "outputs": [
    {
     "data": {
      "image/png": "[encoded data removed]",
      "text/plain": [
       "<Figure size 432x288 with 1 Axes>"
      ]
     },
     "metadata": {
      "needs_background": "light"
     },
     "output_type": "display_data"
    },
    {
     "name": "stdout",
     "output_type": "stream",
     "text": [
      "chi^2: if actual model: chi^2= 201.93980717339545\n"
     ]
    }
   ],
   "source": [
    "#mu and dt for the images\n",
    "mu_l=[1.0,1.5]\n",
    "dt_l=[0.0,11.0]\n",
    "#for simplicity just consider the 1st NI images for now\n",
    "NI=2; #just take two signal/image \n",
    "ft=np.zeros((NI,Ndata))\n",
    "\n",
    "for i in np.arange(NI): \n",
    "    ft[i]=intrinsic_func(t,mu_l[i],dt_l[i])\n",
    "    \n",
    "ft_total=np.sum(ft,axis=0)\n",
    "#sigft=0.05*ft_total+1.0  #10*(0.2+np.random.rand(len(t)))\n",
    "sigft=5*(0.2+np.random.rand(len(t)))\n",
    "np.random.seed(37)\n",
    "\n",
    "y=np.random.normal(ft_total, sigft)#this is my data\n",
    "\n",
    "plt.errorbar(t,y,yerr=sigft,fmt='r*',label=r\"data\") #data\n",
    "plt.plot(t,ft_total,c='k',lw=1.0,ls=\"--\", label=r\"total function\")\n",
    "clr=[\"b\",\"g\",\"c\",\"orange\"]\n",
    "for i in range(NI):\n",
    "    plt.plot(t,ft[i],c=clr[i],lw=1.0,ls=\"--\", label=r\"ft[%d]\"%(i))\n",
    "\n",
    "plt.legend(loc=0)\n",
    "plt.show()\n",
    "chi2_am=np.sum(((y-ft_total)/sigft)**2)\n",
    "print(\"chi^2: if actual model: chi^2=\",chi2_am)"
   ]
  },
  {
   "cell_type": "markdown",
   "metadata": {},
   "source": [
    "Using GP mean function instead of interpolation"
   ]
  },
  {
   "cell_type": "markdown",
   "metadata": {},
   "source": [
    "We choose NP number of free parameters P. They represent the first image. The 2nd image is scaled by mu and has time delay dt (positive dt means the image shifted towards left, hence arrives earlier). To construct the first signal from the values of the parameters P we use GP mean function."
   ]
  },
  {
   "cell_type": "markdown",
   "metadata": {},
   "source": [
    "First we use NP=10, so 10 free nodes."
   ]
  },
  {
   "cell_type": "code",
   "execution_count": 336,
   "metadata": {},
   "outputs": [
    {
     "name": "stderr",
     "output_type": "stream",
     "text": [
      "INFO:pystan:COMPILING THE C++ CODE FOR MODEL anon_model_08b3e68d2d19a7c101786d460582b0d8 NOW.\n"
     ]
    },
    {
     "name": "stdout",
     "output_type": "stream",
     "text": [
      "tp= [  0.          13.33333333  26.66666667  40.          53.33333333\n",
      "  66.66666667  80.          93.33333333 106.66666667 120.        ]\n",
      "td= 13.333333333333334\n"
     ]
    },
    {
     "name": "stderr",
     "output_type": "stream",
     "text": [
      "WARNING:pystan:327 of 5600 iterations ended with a divergence (5.84 %).\n",
      "WARNING:pystan:Try running with adapt_delta larger than 0.8 to remove the divergences.\n"
     ]
    },
    {
     "name": "stdout",
     "output_type": "stream",
     "text": [
      "Inference for Stan model: anon_model_08b3e68d2d19a7c101786d460582b0d8.\n",
      "8 chains, each with iter=2500; warmup=400; thin=3; \n",
      "post-warmup draws per chain=700, total post-warmup draws=5600.\n",
      "\n",
      "        mean se_mean     sd   2.5%    25%    50%    75%  97.5%  n_eff   Rhat\n",
      "P[1]   31.31    0.22   6.17  19.15  27.41  31.28  35.34  43.13    821   1.01\n",
      "P[2]   93.77    0.26   5.61  81.36  90.14  94.83   98.2 101.87    454   1.03\n",
      "P[3]   79.12    0.18    4.4  68.84  76.39  79.75  82.45  85.78    568   1.02\n",
      "P[4]   44.36    0.09   2.51  38.41  42.85   44.7  46.27  48.15    723   1.02\n",
      "P[5]   20.17    0.04   1.25   17.5  19.39  20.28  21.06  22.26    837   1.02\n",
      "P[6]    7.74    0.02   0.71   6.34   7.25   7.75   8.22   9.13   1271   1.01\n",
      "P[7]    2.13    0.01   0.58   1.04   1.74   2.14   2.51   3.29   1749   1.01\n",
      "P[8]    1.23    0.01   0.63   0.13   0.76   1.19   1.65   2.56   2215    1.0\n",
      "P[9]    6.17    0.12   5.58   0.16   1.88   4.55   8.96   20.8   2031    1.0\n",
      "P[10]  69.89    0.67  33.01  10.61  45.61  68.04  92.79 137.81   2424    1.0\n",
      "l       17.1    0.04   1.95   12.8  16.02  17.33  18.53  19.84   2386    1.0\n",
      "mu      0.35  4.1e-3   0.08   0.25   0.29   0.33    0.4   0.54    385   1.03\n",
      "dt      8.54    0.09   3.41   0.91   6.39   9.18  11.07  13.67   1557    1.0\n",
      "lp__  -496.2    0.06   3.12 -503.3 -498.1 -495.8 -493.9 -491.4   2820    1.0\n",
      "\n",
      "Samples were drawn using NUTS at Tue Jan 21 20:52:49 2020.\n",
      "For each parameter, n_eff is a crude measure of effective sample size,\n",
      "and Rhat is the potential scale reduction factor on split chains (at \n",
      "convergence, Rhat=1).\n"
     ]
    }
   ],
   "source": [
    "\n",
    "model = \"\"\"\n",
    "functions{\n",
    "    matrix kernel1(vector x0, vector x1, real l, int d){\n",
    "        matrix [d,d] a;\n",
    "        for (i in 1:d)\n",
    "        {\n",
    "            for (j in 1:i)\n",
    "            {\n",
    "                a[i][j]=exp(-0.5*(x0[i]-x1[j])*(x0[i]-x1[j])/(l*l));\n",
    "                a[j][i]=a[i][j];\n",
    "            }\n",
    "            \n",
    "        }\n",
    "        return a;\n",
    "    }\n",
    "    \n",
    "    matrix kernel2(vector x0, vector x1, real l, int d1, int d2){\n",
    "        matrix [d1,d2] a;\n",
    "        for (i in 1:d1)\n",
    "        {\n",
    "            for (j in 1:d2)\n",
    "            {\n",
    "                a[i][j]=exp(-0.5*(x0[i]-x1[j])*(x0[i]-x1[j])/(l*l));\n",
    "            }\n",
    "            \n",
    "        }\n",
    "        return a;\n",
    "    }\n",
    "    //================== calculating GP mean function =============================\n",
    "    vector GP_mean(vector tp, vector t, vector P, real l, int NP, int N)\n",
    "    {\n",
    "        matrix[NP,NP] K;\n",
    "        matrix[NP,NP] L;\n",
    "        matrix[NP,N] Ks;\n",
    "        matrix[NP,N] Lk;\n",
    "        vector[NP] z;\n",
    "        vector[N] m;\n",
    "    \n",
    "        K=kernel1(tp,tp,l, NP);       //NPxNP\n",
    "        Ks=kernel2(tp,t,l, NP,N);       //NPxN\n",
    "        L=cholesky_decompose(K); //NPxNP\n",
    "        Lk=L\\Ks;      //NPxN\n",
    "        z=L\\P;        //NP\n",
    "        m=((Lk)')*z;// N\n",
    "        return m;\n",
    "    }\n",
    "    //==============================================================================\n",
    "}\n",
    "\n",
    "data {\n",
    "    int<lower=0> N;\n",
    "    int<lower=0> ni;\n",
    "    int<lower=5> NP;\n",
    "    vector[N] t;\n",
    "    vector[N] y;\n",
    "    vector[N] yerror;\n",
    "    vector[NP] tp;\n",
    "    real td;\n",
    "    real dt_max;\n",
    "}\n",
    "parameters {\n",
    "    vector <lower=0.0, upper=150.0> [NP] P;\n",
    "    real<lower=5.0, upper=20.0> l;\n",
    "    real<lower=0.25, upper=4.0> mu;//actually measuring amplitudes relative \n",
    "    //simplex[ni] dt_r;\n",
    "    real <lower=0, upper=dt_max> dt;\n",
    "    \n",
    "    \n",
    "    \n",
    "    \n",
    "}\n",
    "/*\n",
    "//transformed parameters {\n",
    "//    positive_ordered[ni-1] dt = dt_max*cumulative_sum(dt_r[:ni-1]);\n",
    "//}*/\n",
    "\n",
    "model {\n",
    "    vector[N] dum;\n",
    "\n",
    "    //dum needs GP\n",
    "    dum=GP_mean(tp, t, P, l, NP, N); //first image\n",
    "    dum=dum+mu*GP_mean(tp, t+dt, P, l, NP, N); //adding the 2nd image\n",
    "    \n",
    "    \n",
    "    target+=normal_lpdf(y|dum,yerror);\n",
    "\n",
    "}\n",
    "\"\"\"\n",
    "NI=2\n",
    "NP=10;\n",
    "dt_min=0.0; dt_max=20.0\n",
    "#t_range=np.amax(t)-np.amin(t)\n",
    "tp=np.linspace(t_min, t_max+dt_max, NP)\n",
    "print(\"tp=\",tp)\n",
    "td=(t_max-t_min+dt_max-dt_min)/(NP-1); print(\"td=\",td);\n",
    "data = {'N': len(t),'ni':NI,'NP':NP, 't': t, 'y': y, 'yerror':sigft,'tp':tp,'td':td, 'dt_max':dt_max}\n",
    "\n",
    "sm = pystan.StanModel(model_code=model)\n",
    "\n",
    "fit4 = sm.sampling(data=data, iter=2500, chains=8, warmup=400, thin=3, seed=4201)#,control=dict(max_treedepth=15,adapt_delta=1.2))\n",
    "print(fit4)\n"
   ]
  },
  {
   "cell_type": "markdown",
   "metadata": {},
   "source": [
    "In this notebook, we always plot the mean of the samples to get an idea about the sampling."
   ]
  },
  {
   "cell_type": "code",
   "execution_count": 337,
   "metadata": {
    "scrolled": false
   },
   "outputs": [
    {
     "name": "stdout",
     "output_type": "stream",
     "text": [
      "14 [31.31374136 93.77180472 79.1188775  44.35633799 20.17001874  7.73597412\n",
      "  2.13455649  1.22736017  6.16540447 69.88587133]\n",
      "P's are calculated at t=  [  0.          13.33333333  26.66666667  40.          53.33333333\n",
      "  66.66666667  80.          93.33333333 106.66666667 120.        ]\n"
     ]
    },
    {
     "data": {
      "image/png": "[encoded data removed]",
      "text/plain": [
       "<Figure size 432x288 with 1 Axes>"
      ]
     },
     "metadata": {
      "needs_background": "light"
     },
     "output_type": "display_data"
    },
    {
     "name": "stdout",
     "output_type": "stream",
     "text": [
      "Chi^2 actual= 201.93980717339548 Chi^2 pystan rec= 194.63642298629833\n"
     ]
    }
   ],
   "source": [
    "NP=10\n",
    "tp=np.linspace(t_min, t_max+dt_max, NP)\n",
    "pp1=fit4.get_posterior_mean()\n",
    "pos_mean=np.mean(pp1,axis=1)\n",
    "P_mean=pos_mean[np.arange(0,NP)]; \n",
    "print(len(pos_mean),P_mean)\n",
    "lm=pos_mean[-4]; mum=pos_mean[-3]; dtm=pos_mean[-2];\n",
    "print(\"P's are calculated at t= \",tp)\n",
    "\n",
    "\n",
    "Ps1=get_GP_mean(tp,P_mean,t,lm)\n",
    "Ps2=mum*get_GP_mean(tp,P_mean,t+dtm,lm)\n",
    "\n",
    "rconst_signal=Ps1+Ps2#+Ps3+Ps4;\n",
    "Ps=Ps1+Ps2\n",
    "\n",
    "plt.errorbar(t,y,yerr=sigft,fmt='r*',label=r\"data\") #data\n",
    "plt.plot(t,ft_total,c='k',lw=1.0,ls=\"--\", label=r\"total function\")\n",
    "clr=[\"b\",\"g\",\"c\",\"orange\"]\n",
    "for i in range(NI):\n",
    "    plt.plot(t,ft[i],c=clr[i],lw=1.0,ls=\"--\", label=r\"input ft[%d]\"%(i))\n",
    "\n",
    "plt.plot(t,Ps1,c=\"r\",label=\"recons signal 1\" )  \n",
    "plt.plot(t,Ps2,c=\"purple\",label=\"recons signal 2\") \n",
    "plt.errorbar(t,Ps,fmt='g*',label=r\"rec data\") #data    \n",
    "plt.scatter(tp,P_mean,c='b',label=\"parameters values\")\n",
    "plt.legend(loc=0)\n",
    "plt.show()\n",
    "chisq=np.sum((Ps-y)**2/sigft**2)\n",
    "chisq_o=np.sum((ft_total-y)**2/sigft**2)\n",
    "print(\"Chi^2 actual=\",chisq_o,\"Chi^2 pystan rec=\",chisq)"
   ]
  },
  {
   "cell_type": "markdown",
   "metadata": {},
   "source": [
    "We are not getting the correct individual images, although the overall fitting to the combined images are good."
   ]
  },
  {
   "cell_type": "markdown",
   "metadata": {},
   "source": [
    "Below we use NP=11 "
   ]
  },
  {
   "cell_type": "code",
   "execution_count": 338,
   "metadata": {},
   "outputs": [
    {
     "name": "stderr",
     "output_type": "stream",
     "text": [
      "INFO:pystan:COMPILING THE C++ CODE FOR MODEL anon_model_9423764983a099dc83839dac905495c9 NOW.\n"
     ]
    },
    {
     "name": "stdout",
     "output_type": "stream",
     "text": [
      "[  0.  12.  24.  36.  48.  60.  72.  84.  96. 108. 120.]\n"
     ]
    },
    {
     "name": "stderr",
     "output_type": "stream",
     "text": [
      "WARNING:pystan:671 of 5600 iterations ended with a divergence (12 %).\n",
      "WARNING:pystan:Try running with adapt_delta larger than 0.8 to remove the divergences.\n",
      "WARNING:pystan:1 of 5600 iterations saturated the maximum tree depth of 10 (0.0179 %)\n",
      "WARNING:pystan:Run again with max_treedepth larger than 10 to avoid saturation\n"
     ]
    },
    {
     "name": "stdout",
     "output_type": "stream",
     "text": [
      "Inference for Stan model: anon_model_9423764983a099dc83839dac905495c9.\n",
      "8 chains, each with iter=2500; warmup=400; thin=3; \n",
      "post-warmup draws per chain=700, total post-warmup draws=5600.\n",
      "\n",
      "        mean se_mean     sd   2.5%    25%    50%    75%  97.5%  n_eff   Rhat\n",
      "P[1]   30.46    0.79   8.49  13.26  24.67  31.08  36.77  44.65    114   1.06\n",
      "P[2]   89.73     0.6   6.52  75.94  85.22  90.72  95.11  99.17    118   1.06\n",
      "P[3]   84.72    0.37   5.32  73.84  81.18  85.36  88.76  93.31    207   1.04\n",
      "P[4]   53.62    0.22   3.31  46.69  51.64  53.97  56.06  59.01    230   1.04\n",
      "P[5]   27.67    0.12   1.85  23.88  26.48  27.82  29.01  30.95    224   1.04\n",
      "P[6]   13.27    0.06   1.06  10.95  12.57  13.34   14.0  15.19    371   1.02\n",
      "P[7]     4.0    0.02   0.66   2.73   3.56   3.99   4.45   5.23   1018   1.01\n",
      "P[8]    2.43    0.02   0.69    1.1   1.98    2.4   2.89   3.83   1880    1.0\n",
      "P[9]    0.65    0.01   0.48   0.03   0.27   0.57   0.95   1.77   2211    1.0\n",
      "P[10]   6.37    0.27   6.11   0.19   1.92    4.3   8.91  22.64    499   1.02\n",
      "P[11]  38.29    0.82  32.43   0.84  12.42  29.67  55.34 120.38   1549    1.0\n",
      "l      14.42    0.15   3.39   7.26  12.57  14.91  17.02  19.59    506   1.01\n",
      "mu      0.38  9.7e-3    0.1   0.25    0.3   0.36   0.44   0.59    104   1.06\n",
      "dt      8.74    0.21   4.14   0.71   5.74   9.43   11.6  16.38    377   1.03\n",
      "lp__  -494.5    0.08   3.07 -501.5 -496.3 -494.1 -492.2 -489.7   1586   1.01\n",
      "\n",
      "Samples were drawn using NUTS at Tue Jan 21 21:00:26 2020.\n",
      "For each parameter, n_eff is a crude measure of effective sample size,\n",
      "and Rhat is the potential scale reduction factor on split chains (at \n",
      "convergence, Rhat=1).\n"
     ]
    }
   ],
   "source": [
    "\n",
    "model = \"\"\"\n",
    "functions{\n",
    "    matrix kernel(vector x0, vector x1, real l){\n",
    "        int d0=num_elements(x0);\n",
    "        int d1=num_elements(x1);\n",
    "        matrix [d0,d1] a;\n",
    "        for (i in 1:d0){\n",
    "            for (j in 1:d1){\n",
    "                a[i][j]=exp(-0.5*(x0[i]-x1[j])*(x0[i]-x1[j])/(l*l));\n",
    "                //a[j][i]=a[i][j];\n",
    "            }\n",
    "            \n",
    "        }\n",
    "        return a;\n",
    "    }\n",
    "    vector GP_mean(vector tp, vector t, vector P, real l, int NP, int N)\n",
    "    {\n",
    "        matrix[NP,NP] K;\n",
    "        matrix[NP,NP] L;\n",
    "        matrix[NP,N] Ks;\n",
    "        matrix[NP,N] Lk;\n",
    "        vector[NP] z;\n",
    "        vector[N] m;\n",
    "    \n",
    "        K=kernel(tp,tp,l);       //NPxNP\n",
    "        Ks=kernel(tp,t,l);       //NPxN\n",
    "        L=cholesky_decompose(K); //NPxNP\n",
    "        Lk=L\\Ks;      //NPxN\n",
    "        z=L\\P;        //NP\n",
    "        m=((Lk)')*z;// N\n",
    "        return m;\n",
    "    }\n",
    "}\n",
    "\n",
    "data {\n",
    "    int<lower=0> N;\n",
    "    int<lower=0> ni;\n",
    "    int<lower=5> NP;\n",
    "    vector[N] t;\n",
    "    vector[N] y;\n",
    "    vector[N] yerror;\n",
    "    vector[NP] tp;\n",
    "}\n",
    "parameters {\n",
    "    vector <lower=0.0, upper=150.0> [NP] P;\n",
    "    real<lower=5.0, upper=20.0> l;\n",
    "    real<lower=0.25, upper=4.0> mu;//actually measuring amplitudes relative \n",
    "    //simplex[ni] dt_r;\n",
    "    real <lower=0.0, upper=20.0> dt;\n",
    "    \n",
    "    \n",
    "    \n",
    "    \n",
    "}\n",
    "/*\n",
    "//transformed parameters {\n",
    "//    positive_ordered[ni-1] dt = dt_max*cumulative_sum(dt_r[:ni-1]);\n",
    "//}*/\n",
    "\n",
    "model {\n",
    "    vector[N] dum;\n",
    "\n",
    "    //dum needs GP\n",
    "    dum=GP_mean(tp, t, P, l, NP, N);\n",
    "    dum=dum+mu*GP_mean(tp, t+dt, P, l, NP, N);\n",
    "    \n",
    "    \n",
    "    target+=normal_lpdf(y|dum,yerror);\n",
    "\n",
    "}\n",
    "\"\"\"\n",
    "NI=2\n",
    "NP=11;\n",
    "dt_min=0.0; dt_max=20.0\n",
    "#t_range=np.amax(t)-np.amin(t)\n",
    "tp=np.linspace(t_min, t_max+dt_max, NP)\n",
    "print(tp)\n",
    "data = {'N': len(t),'ni':NI,'NP':NP, 't': t, 'y': y, 'yerror':sigft,'tp':tp}\n",
    "\n",
    "sm = pystan.StanModel(model_code=model)\n",
    "\n",
    "fit5 = sm.sampling(data=data, iter=2500, chains=8, warmup=400, thin=3, seed=4201)\n",
    "print(fit5)"
   ]
  },
  {
   "cell_type": "code",
   "execution_count": 339,
   "metadata": {
    "scrolled": true
   },
   "outputs": [
    {
     "name": "stdout",
     "output_type": "stream",
     "text": [
      "[ 3.04591204e+01  8.97270122e+01  8.47202294e+01  5.36161577e+01\n",
      "  2.76738050e+01  1.32654013e+01  3.99630890e+00  2.43056629e+00\n",
      "  6.52790032e-01  6.36685905e+00  3.82920571e+01  1.44185688e+01\n",
      "  3.78104567e-01  8.73593071e+00 -4.94525910e+02]\n",
      "15 11\n",
      "P's are calculated at t=  [  0.  12.  24.  36.  48.  60.  72.  84.  96. 108. 120.]\n"
     ]
    },
    {
     "data": {
      "image/png": "[encoded data removed]",
      "text/plain": [
       "<Figure size 432x288 with 1 Axes>"
      ]
     },
     "metadata": {
      "needs_background": "light"
     },
     "output_type": "display_data"
    },
    {
     "name": "stdout",
     "output_type": "stream",
     "text": [
      "Chi^2 actual= 201.93980717339548 Chi^2 pystan rec= 202.52406680203737\n"
     ]
    }
   ],
   "source": [
    "NP=11\n",
    "tp=np.linspace(t_min, t_max+dt_max, NP)\n",
    "pp1=fit5.get_posterior_mean()\n",
    "pos_mean=np.mean(pp1,axis=1)\n",
    "P_mean=pos_mean[np.arange(0,NP)]; \n",
    "print(pos_mean)\n",
    "print(len(pos_mean),len(P_mean))\n",
    "lm=pos_mean[-4]; mum=pos_mean[-3]; dtm=pos_mean[-2];\n",
    "print(\"P's are calculated at t= \",tp)\n",
    "\n",
    "\n",
    "Ps1=get_GP_mean(tp,P_mean,t,lm)\n",
    "Ps2=mum*get_GP_mean(tp,P_mean,t+dtm,lm)\n",
    "\n",
    "rconst_signal=Ps1+Ps2#+Ps3+Ps4;\n",
    "Ps=Ps1+Ps2\n",
    "\n",
    "plt.errorbar(t,y,yerr=sigft,fmt='r*',label=r\"data\") #data\n",
    "plt.plot(t,ft_total,c='k',lw=1.0,ls=\"--\", label=r\"total function\")\n",
    "clr=[\"b\",\"g\",\"c\",\"orange\"]\n",
    "for i in range(NI):\n",
    "    plt.plot(t,ft[i],c=clr[i],lw=1.0,ls=\"--\", label=r\"input ft[%d]\"%(i))\n",
    "\n",
    "plt.plot(t,Ps1,c=\"r\",label=\"recons signal 1\")  \n",
    "plt.plot(t,Ps2,c=\"purple\",label=\"recons signal 2\") \n",
    "plt.errorbar(t,Ps,fmt='g*',label=r\"rec data\") #data    \n",
    "plt.scatter(tp,P_mean,c='b',label=\"parameters values\")\n",
    "plt.legend(loc=0)\n",
    "plt.show()\n",
    "chisq=np.sum((Ps-y)**2/sigft**2)\n",
    "chisq_o=np.sum((ft_total-y)**2/sigft**2)\n",
    "print(\"Chi^2 actual=\",chisq_o,\"Chi^2 pystan rec=\",chisq)"
   ]
  },
  {
   "cell_type": "markdown",
   "metadata": {},
   "source": [
    "We get somewhat similar result. The overall fit is good, but the original two signals are not resolved correctly."
   ]
  },
  {
   "cell_type": "code",
   "execution_count": null,
   "metadata": {},
   "outputs": [],
   "source": []
  },
  {
   "cell_type": "code",
   "execution_count": null,
   "metadata": {},
   "outputs": [],
   "source": []
  }
 ],
 "metadata": {
  "kernelspec": {
   "display_name": "Python 3",
   "language": "python",
   "name": "python3"
  },
  "language_info": {
   "codemirror_mode": {
    "name": "ipython",
    "version": 3
   },
   "file_extension": ".py",
   "mimetype": "text/x-python",
   "name": "python",
   "nbconvert_exporter": "python",
   "pygments_lexer": "ipython3",
   "version": "3.7.4"
  }
 },
 "nbformat": 4,
 "nbformat_minor": 2
}
